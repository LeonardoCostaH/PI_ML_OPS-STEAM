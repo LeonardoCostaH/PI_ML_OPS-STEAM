{
 "cells": [
  {
   "cell_type": "code",
   "execution_count": 68,
   "metadata": {},
   "outputs": [],
   "source": [
    "import pandas as pd\n",
    "import numpy as np\n",
    "from sklearn.metrics.pairwise import cosine_similarity\n",
    "from sklearn.preprocessing import MultiLabelBinarizer"
   ]
  },
  {
   "cell_type": "markdown",
   "metadata": {},
   "source": [
    "Ruta de los datasets"
   ]
  },
  {
   "cell_type": "code",
   "execution_count": 69,
   "metadata": {},
   "outputs": [],
   "source": [
    "ruta_steam_games = 'datasets/output_steam_games.json'\n",
    "ruta_users_items = 'datasets/australian_users_items.json'\n",
    "ruta_users_reviews = 'datasets/australian_user_reviews.json'\n",
    "\n",
    "ruta_parquet_games = \"datasets/data_steam_games.parquet\"\n",
    "ruta_parquet_reviews = \"datasets/data_reviews.parquet\"\n",
    "ruta_parquet_items = \"datasets/data_items.parquet\"\n",
    "\n",
    "ruta_games_csv = 'datasets/steam_games.csv'\n",
    "ruta_items_csv = 'datasets/users_items.csv'\n",
    "ruta_reviews_csv = 'users_reviews.csv'"
   ]
  },
  {
   "cell_type": "markdown",
   "metadata": {},
   "source": [
    "Importación de Dataset"
   ]
  },
  {
   "cell_type": "code",
   "execution_count": 81,
   "metadata": {},
   "outputs": [],
   "source": [
    "df_games = pd.read_parquet(ruta_parquet_games)"
   ]
  },
  {
   "cell_type": "markdown",
   "metadata": {},
   "source": [
    "Cálculo de la Similitud del Coseno"
   ]
  },
  {
   "cell_type": "code",
   "execution_count": 71,
   "metadata": {},
   "outputs": [],
   "source": [
    "\n",
    "# Crear una copia del DataFrame para evitar modificar el original\n",
    "df_steam_copy = df_games.copy()\n",
    "\n",
    "# Desanidar las columnas de género\n",
    "df_steam_copy['genres'] = df_steam_copy['genres'].apply(eval)  # Convierte las listas de géneros en listas de Python\n",
    "unique_genres = list(set(genre for sublist in df_steam_copy['genres'] for genre in sublist))\n",
    "\n",
    "# Crear columnas binarias para cada género\n",
    "mlb = MultiLabelBinarizer()\n",
    "genre_features = pd.DataFrame(mlb.fit_transform(df_steam_copy['genres']), columns=mlb.classes_)"
   ]
  },
  {
   "cell_type": "markdown",
   "metadata": {},
   "source": [
    "Función de recomendación"
   ]
  },
  {
   "cell_type": "code",
   "execution_count": 76,
   "metadata": {},
   "outputs": [],
   "source": [
    "def recomendacion_juego(id_producto, num_recomendaciones=5):\n",
    "    # Verificar si el ID del juego está en el índice de genre_features\n",
    "    if id_producto not in genre_features.index:\n",
    "        return {\"error\": \"El juego no se encuentra en la base de datos.\"}\n",
    "\n",
    "    # Resto del código para calcular la similitud del coseno y obtener las recomendaciones\n",
    "    juego_seleccionado = np.array(genre_features.loc[id_producto].values).reshape(1, -1)\n",
    "    similaridades = cosine_similarity(juego_seleccionado, genre_features)\n",
    "\n",
    "    juegos_similares_indices = similaridades.argsort()[0][-num_recomendaciones:][::-1]\n",
    "    juegos_recomendados = df_steam_copy.iloc[juegos_similares_indices, :]\n",
    "\n",
    "    lista = [{\"item_id\": row['item_id'], \"title\": row['title']} for index, row in juegos_recomendados.iterrows()]\n",
    "\n",
    "    return lista\n"
   ]
  },
  {
   "cell_type": "code",
   "execution_count": 78,
   "metadata": {},
   "outputs": [
    {
     "data": {
      "text/plain": [
       "[{'item_id': 658870, 'title': 'EXIT 2 - Directions'},\n",
       " {'item_id': 713430, 'title': 'Secrets of Magic 2: Witches and Wizards'},\n",
       " {'item_id': 617230, 'title': 'Trapped Within'},\n",
       " {'item_id': 681620, 'title': 'Cube Link'},\n",
       " {'item_id': 729330, 'title': 'The Girl on the Train'}]"
      ]
     },
     "execution_count": 78,
     "metadata": {},
     "output_type": "execute_result"
    }
   ],
   "source": [
    "recomendacion = recomendacion_juego(50)\n",
    "recomendacion"
   ]
  }
 ],
 "metadata": {
  "kernelspec": {
   "display_name": "Python 3",
   "language": "python",
   "name": "python3"
  },
  "language_info": {
   "codemirror_mode": {
    "name": "ipython",
    "version": 3
   },
   "file_extension": ".py",
   "mimetype": "text/x-python",
   "name": "python",
   "nbconvert_exporter": "python",
   "pygments_lexer": "ipython3",
   "version": "3.11.5"
  }
 },
 "nbformat": 4,
 "nbformat_minor": 2
}
