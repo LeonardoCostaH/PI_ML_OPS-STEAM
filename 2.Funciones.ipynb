{
 "cells": [
  {
   "cell_type": "code",
   "execution_count": 31,
   "metadata": {},
   "outputs": [],
   "source": [
    "import json\n",
    "import ast\n",
    "import re\n",
    "from textblob import TextBlob\n",
    "import pandas as pd\n",
    "import numpy as np\n",
    "from typing import Optional\n",
    "import sklearn\n",
    "from sklearn.metrics.pairwise import cosine_similarity"
   ]
  },
  {
   "cell_type": "markdown",
   "metadata": {},
   "source": [
    "Rutas de los datasets"
   ]
  },
  {
   "cell_type": "code",
   "execution_count": 32,
   "metadata": {},
   "outputs": [],
   "source": [
    "ruta_steam_games = 'datasets/output_steam_games.json'\n",
    "ruta_users_items = 'datasets/australian_users_items.json'\n",
    "ruta_users_reviews = 'datasets/australian_user_reviews.json'\n",
    "\n",
    "ruta_parquet_games = \"datasets/data_steam_games.parquet\"\n",
    "ruta_parquet_reviews = \"datasets/data_reviews.parquet\"\n",
    "ruta_parquet_items = \"datasets/data_items.parquet\"\n",
    "\n",
    "ruta_games_csv = 'datasets/steam_games.csv'\n",
    "ruta_items_csv = 'datasets/users_items.csv'\n",
    "ruta_reviews_csv = 'users_reviews.csv'"
   ]
  },
  {
   "cell_type": "markdown",
   "metadata": {},
   "source": [
    "importación de los datasets"
   ]
  },
  {
   "cell_type": "code",
   "execution_count": 33,
   "metadata": {},
   "outputs": [],
   "source": [
    "df_games = pd.read_parquet(ruta_parquet_games)\n",
    "df_items = pd.read_parquet(ruta_parquet_items)\n",
    "df_reviews = pd.read_parquet(ruta_parquet_reviews)"
   ]
  },
  {
   "cell_type": "markdown",
   "metadata": {},
   "source": [
    "Función **developer**`( desarrollador : str )`: Cantidad de items y porcentaje de contenido Free por año según empresa desarrolladora. \n",
    "- Ejemplo de retorno:\n",
    "\n",
    "| Año | Cantidad de Items | Contenido Free |\n",
    "| --- | --- | --- |\n",
    "| 2023 | 50 | 27% |\n",
    "| 2022 | 45 | 25% |\n",
    "| xxxx | xx | xx% |"
   ]
  },
  {
   "cell_type": "code",
   "execution_count": 46,
   "metadata": {},
   "outputs": [],
   "source": [
    "def developer(desarrollador: str):\n",
    "    # Filtrar los juegos del desarrollador especificado\n",
    "    juegos_del_desarrollador = df_games[df_games['developer'] == desarrollador]\n",
    "\n",
    "    # Combinar los DataFrames para obtener los juegos de ese desarrollador\n",
    "    combined_df = pd.merge(df_items, juegos_del_desarrollador, on=\"item_id\", how=\"inner\")\n",
    "\n",
    "    # Agrupar por año y contar la cantidad de elementos\n",
    "    cantidad_por_año = combined_df.groupby('year')['item_id'].count().reset_index()\n",
    "    cantidad_por_año.columns = ['Año', 'Cantidad de Items']\n",
    "\n",
    "    # Calcular el porcentaje de contenido gratuito (Free) por año\n",
    "    contenido_free_por_año = combined_df[combined_df['price'] == \"Free To Play\"].groupby('year')['item_id'].count() / cantidad_por_año['Cantidad de Items'] * 100\n",
    "    contenido_free_por_año = contenido_free_por_año.reset_index()\n",
    "    contenido_free_por_año.columns = ['Año', 'Contenido Free']\n",
    "\n",
    "    # Combinar los DataFrames de cantidad y contenido gratuito\n",
    "    resultado = pd.merge(cantidad_por_año, contenido_free_por_año, on=\"Año\", how=\"left\")\n",
    "\n",
    "    return resultado\n"
   ]
  },
  {
   "cell_type": "markdown",
   "metadata": {},
   "source": [
    "Prueba de la función"
   ]
  },
  {
   "cell_type": "code",
   "execution_count": 47,
   "metadata": {},
   "outputs": [
    {
     "data": {
      "text/html": [
       "<div>\n",
       "<style scoped>\n",
       "    .dataframe tbody tr th:only-of-type {\n",
       "        vertical-align: middle;\n",
       "    }\n",
       "\n",
       "    .dataframe tbody tr th {\n",
       "        vertical-align: top;\n",
       "    }\n",
       "\n",
       "    .dataframe thead th {\n",
       "        text-align: right;\n",
       "    }\n",
       "</style>\n",
       "<table border=\"1\" class=\"dataframe\">\n",
       "  <thead>\n",
       "    <tr style=\"text-align: right;\">\n",
       "      <th></th>\n",
       "      <th>Cantidad de Items</th>\n",
       "      <th>Año</th>\n",
       "      <th>Contenido Free</th>\n",
       "    </tr>\n",
       "  </thead>\n",
       "  <tbody>\n",
       "  </tbody>\n",
       "</table>\n",
       "</div>"
      ],
      "text/plain": [
       "Empty DataFrame\n",
       "Columns: [Cantidad de Items, Año, Contenido Free]\n",
       "Index: []"
      ]
     },
     "execution_count": 47,
     "metadata": {},
     "output_type": "execute_result"
    }
   ],
   "source": [
    "desarrollador = \"Studio Wildcard\"\n",
    "resultados = developer(desarrollador)\n",
    "resultados"
   ]
  },
  {
   "cell_type": "markdown",
   "metadata": {},
   "source": [
    "Función **userdata**( User_id : str ) - Debe devolver cantidad de dinero gastado por el usuario, el porcentaje de recomendación en base a reviews.recommend y cantidad de items."
   ]
  },
  {
   "cell_type": "code",
   "execution_count": null,
   "metadata": {},
   "outputs": [],
   "source": []
  },
  {
   "cell_type": "markdown",
   "metadata": {},
   "source": [
    "Función **UserForGenre**`( genero : str )`: Debe devolver el usuario que acumula más horas jugadas para el género dado y una lista de la acumulación de horas jugadas por año.\n",
    "\n",
    "Ejemplo de retorno: {\"Usuario con más horas jugadas para Género X\" : us213ndjss09sdf, \"Horas jugadas\":[{Año: 2013, Horas: 203}, {Año: 2012, Horas: 100}, {Año: 2011, Horas: 23}]}"
   ]
  },
  {
   "cell_type": "code",
   "execution_count": 36,
   "metadata": {},
   "outputs": [],
   "source": [
    "def UserForGenre(genero: str):\n",
    "    # Filtrar df_games para obtener solo las filas que contienen el género especificado\n",
    "    filtered_games = df_games[df_games['genres'].str.contains(genero, case=False, na=False)]\n",
    "\n",
    "    # Filtrar df_items para reducir el conjunto de datos a las columnas necesarias\n",
    "    df_items_filtered = df_items[['user_id', 'item_id', 'playtime_forever']]\n",
    "\n",
    "    # Combinar los DataFrames filtrados en uno solo usando \"item_id\" como clave\n",
    "    combined_df = pd.merge(df_items_filtered, filtered_games, on=\"item_id\", how=\"inner\")\n",
    "\n",
    "    # Agrupar por usuario y año, sumar las horas jugadas y encontrar el usuario con más horas jugadas\n",
    "    result_df = combined_df.groupby(['user_id', 'year'])['playtime_forever'].sum().reset_index()\n",
    "    max_user = result_df.loc[result_df['playtime_forever'].idxmax()]\n",
    "\n",
    "    # Convertir las horas jugadas de minutos a horas en el DataFrame resultante\n",
    "    result_df['playtime_forever'] = result_df['playtime_forever'] / 60\n",
    "    result_df['playtime_forever'] = result_df['playtime_forever'].round(0)\n",
    "\n",
    "    # Crear una lista de acumulación de horas jugadas por año\n",
    "    accumulation = result_df.groupby('year')['playtime_forever'].sum().reset_index()\n",
    "    accumulation = accumulation.rename(columns={'year': 'Año', 'playtime_forever': 'Horas'})\n",
    "    accumulation_list = accumulation.to_dict(orient='records')\n",
    "\n",
    "    return {\"Usuario con más horas jugadas para el género \" + genero: max_user['user_id'], \"Horas jugadas\": accumulation_list}\n"
   ]
  },
  {
   "cell_type": "markdown",
   "metadata": {},
   "source": [
    "Prueba de la función"
   ]
  },
  {
   "cell_type": "code",
   "execution_count": 40,
   "metadata": {},
   "outputs": [
    {
     "data": {
      "text/plain": [
       "{'Usuario con más horas jugadas para el género Strategy': 'shinomegami',\n",
       " 'Horas jugadas': [{'Año': 1988, 'Horas': 221.0},\n",
       "  {'Año': 1990, 'Horas': 0.0},\n",
       "  {'Año': 1991, 'Horas': 0.0},\n",
       "  {'Año': 1993, 'Horas': 3010.0},\n",
       "  {'Año': 1994, 'Horas': 18.0},\n",
       "  {'Año': 1995, 'Horas': 899.0},\n",
       "  {'Año': 1996, 'Horas': 140.0},\n",
       "  {'Año': 1997, 'Horas': 2204.0},\n",
       "  {'Año': 1998, 'Horas': 419.0},\n",
       "  {'Año': 1999, 'Horas': 9527.0},\n",
       "  {'Año': 2000, 'Horas': 506.0},\n",
       "  {'Año': 2001, 'Horas': 15595.0},\n",
       "  {'Año': 2002, 'Horas': 8019.0},\n",
       "  {'Año': 2003, 'Horas': 122142.0},\n",
       "  {'Año': 2004, 'Horas': 61368.0},\n",
       "  {'Año': 2005, 'Horas': 16763.0},\n",
       "  {'Año': 2006, 'Horas': 286645.0},\n",
       "  {'Año': 2007, 'Horas': 52547.0},\n",
       "  {'Año': 2008, 'Horas': 135119.0},\n",
       "  {'Año': 2009, 'Horas': 529311.0},\n",
       "  {'Año': 2010, 'Horas': 2347056.0},\n",
       "  {'Año': 2011, 'Horas': 574957.0},\n",
       "  {'Año': 2012, 'Horas': 1426094.0},\n",
       "  {'Año': 2013, 'Horas': 2420832.0},\n",
       "  {'Año': 2014, 'Horas': 838494.0},\n",
       "  {'Año': 2015, 'Horas': 1369682.0},\n",
       "  {'Año': 2016, 'Horas': 527025.0},\n",
       "  {'Año': 2017, 'Horas': 97447.0}]}"
      ]
     },
     "execution_count": 40,
     "metadata": {},
     "output_type": "execute_result"
    }
   ],
   "source": [
    "genero = \"Strategy\"\n",
    "usuario_por_genero = UserForGenre(genero)\n",
    "usuario_por_genero"
   ]
  },
  {
   "cell_type": "markdown",
   "metadata": {},
   "source": [
    "Función **best_developer_year**`( año : int )`- Devuelve el top 3 de desarrolladores con juegos MÁS recomendados por usuarios para el año dado. (reviews.recommend = True y comentarios positivos)\n",
    "\n",
    "- Ejemplo de retorno: [{\"Puesto 1\" : X}, {\"Puesto 2\" : Y},{\"Puesto 3\" : Z}]"
   ]
  },
  {
   "cell_type": "code",
   "execution_count": 38,
   "metadata": {},
   "outputs": [],
   "source": [
    "def best_developer_year(año: int):\n",
    "    # Filtra los juegos del año especificado en df_games\n",
    "    juegos_del_año = df_games[df_games['year'] == año]\n",
    "\n",
    "    # Combinación de DataFrames para obtener los juegos recomendados en ese año\n",
    "    combined_df = pd.merge(juegos_del_año, df_reviews, on=\"item_id\", how=\"inner\")\n",
    "\n",
    "    # Filtra los juegos recomendados con comentarios positivos\n",
    "    juegos_recomendados = combined_df[(combined_df['recommend'] == True) & (combined_df['sentiment_analysis'] == 2)]\n",
    "\n",
    "    # Agrupa por desarrollador y cuenta las recomendaciones\n",
    "    desarrolladores_recomendados = juegos_recomendados['developer'].value_counts().reset_index()\n",
    "    desarrolladores_recomendados.columns = ['developer', 'recommend_count']\n",
    "\n",
    "    # Ordena en orden descendente y toma los 3 principales\n",
    "    top_desarrolladores = desarrolladores_recomendados.nlargest(3, 'recommend_count')\n",
    "\n",
    "    # Formatea el resultado en un formato de lista de diccionarios\n",
    "    resultado = [{\"Puesto {}: {}\".format(i + 1, row['developer']): row['recommend_count']} for i, row in top_desarrolladores.iterrows()]\n",
    "\n",
    "    return resultado\n",
    "\n"
   ]
  },
  {
   "cell_type": "markdown",
   "metadata": {},
   "source": [
    "prueba de la función"
   ]
  },
  {
   "cell_type": "code",
   "execution_count": 48,
   "metadata": {},
   "outputs": [
    {
     "data": {
      "text/plain": [
       "[{'Puesto 1: Smartly Dressed Games': 522},\n",
       " {'Puesto 2: Freejam': 171},\n",
       " {'Puesto 3: Studio Wildcard,Instinct Games,Efecto Studios,Virtual Basement LLC': 145}]"
      ]
     },
     "execution_count": 48,
     "metadata": {},
     "output_type": "execute_result"
    }
   ],
   "source": [
    "año = 2017\n",
    "top_desarrolladores = best_developer_year(año)\n",
    "top_desarrolladores"
   ]
  },
  {
   "cell_type": "markdown",
   "metadata": {},
   "source": [
    "Función **developer**`( desarrolladora : str )` - Según el desarrollador, se devuelve un diccionario con el nombre del desarrollador como llave y una lista con la cantidad total de registros de reseñas de usuarios que se encuentren categorizados con un análisis de sentimiento como valor positivo o negativo.\n",
    "\n",
    "- Ejemplo de retorno: {'Valve' : [Negative = 182, Positive = 278]}"
   ]
  },
  {
   "cell_type": "code",
   "execution_count": 54,
   "metadata": {},
   "outputs": [],
   "source": [
    "def developer(desarrolladora: str):\n",
    "    # Filtrar las reseñas por el desarrollador dado\n",
    "    reseñas_desarrolladora = df_reviews[df_reviews['user_id'].isin(df_items[df_items['item_id'].isin(df_games[df_games['developer'] == desarrolladora]['item_id'])]['user_id'])]\n",
    "\n",
    "    # Contar las reseñas con sentimiento positivo y negativo\n",
    "    sentimiento_positivo = reseñas_desarrolladora[reseñas_desarrolladora['sentiment_analysis'] == 2].shape[0]\n",
    "    sentimiento_negativo = reseñas_desarrolladora[reseñas_desarrolladora['sentiment_analysis'] == 0].shape[0]\n",
    "\n",
    "    # Crear el diccionario de resultados\n",
    "    resultado = {desarrolladora: {'Positive': sentimiento_positivo, 'Negative': sentimiento_negativo}}\n",
    "\n",
    "    return resultado"
   ]
  },
  {
   "cell_type": "markdown",
   "metadata": {},
   "source": [
    "Prueba de la función"
   ]
  },
  {
   "cell_type": "code",
   "execution_count": 55,
   "metadata": {},
   "outputs": [
    {
     "data": {
      "text/plain": [
       "{'Valve': {'Positive': 27944, 'Negative': 10758}}"
      ]
     },
     "execution_count": 55,
     "metadata": {},
     "output_type": "execute_result"
    }
   ],
   "source": [
    "desarrolladora = \"Valve\"\n",
    "desarrollador = developer(desarrolladora)\n",
    "desarrollador"
   ]
  },
  {
   "cell_type": "markdown",
   "metadata": {},
   "source": [
    "**Funciónes ML**"
   ]
  },
  {
   "cell_type": "markdown",
   "metadata": {},
   "source": [
    "*Si es un sistema de recomendación item-item:*"
   ]
  },
  {
   "cell_type": "markdown",
   "metadata": {},
   "source": [
    "Función **recomendacion_juego**`( id de producto )` -  Ingresando el id de producto, deberíamos recibir una lista con 5 juegos recomendados similares al ingresado."
   ]
  },
  {
   "cell_type": "code",
   "execution_count": null,
   "metadata": {},
   "outputs": [],
   "source": []
  },
  {
   "cell_type": "markdown",
   "metadata": {},
   "source": [
    "*Si es un sistema de recomendación user-item:*"
   ]
  },
  {
   "cell_type": "markdown",
   "metadata": {},
   "source": [
    "Función **recomendacion_usuario**`( id de usuario )` - Ingresando el id de un usuario, deberíamos recibir una lista con 5 juegos recomendados para dicho usuario."
   ]
  },
  {
   "cell_type": "code",
   "execution_count": null,
   "metadata": {},
   "outputs": [],
   "source": []
  }
 ],
 "metadata": {
  "kernelspec": {
   "display_name": "env",
   "language": "python",
   "name": "python3"
  },
  "language_info": {
   "codemirror_mode": {
    "name": "ipython",
    "version": 3
   },
   "file_extension": ".py",
   "mimetype": "text/x-python",
   "name": "python",
   "nbconvert_exporter": "python",
   "pygments_lexer": "ipython3",
   "version": "3.11.5"
  }
 },
 "nbformat": 4,
 "nbformat_minor": 2
}
